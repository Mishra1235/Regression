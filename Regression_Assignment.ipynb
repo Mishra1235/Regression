{
  "nbformat": 4,
  "nbformat_minor": 0,
  "metadata": {
    "colab": {
      "provenance": []
    },
    "kernelspec": {
      "name": "python3",
      "display_name": "Python 3"
    },
    "language_info": {
      "name": "python"
    }
  },
  "cells": [
    {
      "cell_type": "markdown",
      "source": [
        "# Regression & Its Evaluation | Assignment"
      ],
      "metadata": {
        "id": "lGZLtfFk2mwW"
      }
    },
    {
      "cell_type": "markdown",
      "source": [
        "### Q1. What is Simple Linear Regression?\n",
        "\n",
        "- **Simple Linear Regression (SLR)** is a statistical technique used to establish a relationship between **two variables**:  \n",
        "  - **Independent Variable (X):** The predictor or input variable.  \n",
        "  - **Dependent Variable (Y):** The response or output variable.  \n",
        "\n",
        "- The main goal of SLR is to **predict the value of Y** based on the given value of X.  \n",
        "- It assumes that the relationship between X and Y is **linear**, i.e., it can be represented by a straight line.\n",
        "\n",
        "####  Mathematical Equation:\n",
        "\n",
        "\\[\n",
        "Y = \\beta_0 + \\beta_1 X + \\epsilon\n",
        "\\]\n",
        "\n",
        "Where:  \n",
        "- \\( Y \\) = Dependent variable (Target)  \n",
        "- \\( X \\) = Independent variable (Predictor)  \n",
        "- \\( \\beta_0 \\) = Intercept (value of Y when X = 0)  \n",
        "- \\( \\beta_1 \\) = Slope (change in Y for one unit change in X)  \n",
        "- \\( \\epsilon \\) = Error term (unexplained variation)  \n",
        "\n",
        "####  Example:\n",
        "\n",
        "- Predicting a **student’s exam score (Y)** based on the **number of study hours (X)**.  \n",
        "- If a student studies more hours, their score is expected to increase linearly.  \n",
        "\n",
        "### Q2. What are the key assumptions of Simple Linear Regression?\n",
        "\n",
        "For Simple Linear Regression (SLR) to give valid and reliable results, certain **assumptions** must be satisfied. These are:\n",
        "\n",
        "#### 1. **Linearity**\n",
        "- The relationship between the independent variable (X) and dependent variable (Y) is **linear**.  \n",
        "- This means that change in X results in a proportional change in Y.  \n",
        "\n",
        "#### 2. **Independence of Errors**\n",
        "- The residuals (errors) should be **independent** of each other.  \n",
        "- No autocorrelation should exist between them.  \n",
        "\n",
        "#### 3. **Homoscedasticity (Constant Variance)**\n",
        "- The variance of the residuals should remain **constant across all values of X**.  \n",
        "- If variance changes (called heteroscedasticity), the model becomes unreliable.  \n",
        "\n",
        "#### 4. **Normality of Errors**\n",
        "- The residuals (ε) should be approximately **normally distributed**.  \n",
        "- This assumption is important for hypothesis testing and confidence intervals.  \n",
        "\n",
        "#### 5. **No or Minimal Multicollinearity** (not applicable in Simple Linear, but important in Multiple Linear Regression)  \n",
        "- Since SLR has only one predictor, this is not a major issue.  \n",
        "- But in Multiple Regression, predictors should not be highly correlated.  \n",
        "\n",
        "####  Example:\n",
        "- While predicting exam score (Y) from study hours (X):  \n",
        "  - Relationship must be linear.  \n",
        "  - Errors in prediction should be random (not patterned).  \n",
        "  - Error spread should remain constant at all levels of X.\n",
        "\n",
        "### Q3. What is Heteroscedasticity, and why is it important to address in regression models?\n",
        "\n",
        "####  Definition:\n",
        "- **Heteroscedasticity** occurs when the **variance of the residuals (errors)** is **not constant** across all levels of the independent variable (X).  \n",
        "- In other words, the spread of errors increases or decreases as the value of X changes.\n",
        "\n",
        "####  Visualization:\n",
        "- In a scatter plot of residuals vs. predicted values:  \n",
        "  - **Homoscedasticity (ideal case):** Errors are spread evenly.  \n",
        "  - **Heteroscedasticity (problematic case):** Errors form a cone or fan shape.\n",
        "\n",
        "\n",
        "####  Mathematical Representation:\n",
        "\\[\n",
        "Var(\\epsilon_i) \\neq \\sigma^2\n",
        "\\]\n",
        "\n",
        "- \\( \\epsilon_i \\) = error term  \n",
        "- \\( \\sigma^2 \\) = constant variance (assumption of homoscedasticity)\n",
        "\n",
        "#### 🔹 Why It Is Important:\n",
        "1. **Bias in Standard Errors:**  \n",
        "   - If heteroscedasticity exists, the standard errors of regression coefficients become biased.  \n",
        "   - This affects the accuracy of hypothesis tests (t-test, F-test).  \n",
        "\n",
        "2. **Unreliable Predictions:**  \n",
        "   - Confidence intervals and significance tests may become invalid.  \n",
        "\n",
        "3. **Efficiency Problem:**  \n",
        "   - Ordinary Least Squares (OLS) estimates remain unbiased, but they are **no longer efficient**.  \n",
        "   - This means they do not provide the “best” possible estimates.  \n",
        "\n",
        "#### 🔹 Example:\n",
        "- Suppose we are predicting **monthly expenditure (Y)** based on **monthly income (X)**.  \n",
        "- At low income levels, variation in expenditure is small, but at higher income levels, variation increases widely.  \n",
        "- This is a clear case of **heteroscedasticity**.  \n",
        "\n",
        "### Q4. What is Multiple Linear Regression?\n",
        "\n",
        "####  Definition:\n",
        "- **Multiple Linear Regression (MLR)** is an extension of **Simple Linear Regression**.  \n",
        "- In MLR, the dependent variable (Y) is predicted using **two or more independent variables (X₁, X₂, …, Xₙ)**.  \n",
        "- It helps in understanding how **multiple factors together** affect the outcome.\n",
        "\n",
        "####  Key Points:\n",
        "1. MLR considers the **combined effect** of several predictors on the target variable.  \n",
        "2. Each predictor contributes some amount of influence to the dependent variable.  \n",
        "3. It provides better prediction accuracy compared to simple regression when multiple factors affect the outcome.  \n",
        "4. Care must be taken to check important assumptions like **linearity, independence of errors, homoscedasticity, normality**, and **absence of multicollinearity**.\n",
        "\n",
        "####  Example:\n",
        "- Predicting a student’s **final exam score (Y)** based on:  \n",
        "  - **Study Hours (X₁)**  \n",
        "  - **Sleep Hours (X₂)**  \n",
        "  - **Attendance Percentage (X₃)**\n",
        "\n",
        "### Q5. What is Polynomial Regression, and how does it differ from Linear Regression?\n",
        "\n",
        "####  Polynomial Regression:\n",
        "- Polynomial Regression is a type of regression technique where the **relationship between the independent variable (X) and the dependent variable (Y)** is modeled as an **nth-degree polynomial**.  \n",
        "- Unlike Simple Linear Regression (which fits a straight line), Polynomial Regression can capture **curved relationships**.  \n",
        "- It is still considered a type of **linear model** because the coefficients are estimated linearly, but the predictors are raised to higher powers.\n",
        "\n",
        "####  Difference from Linear Regression:\n",
        "1. **Shape of the Relationship:**\n",
        "   - Linear Regression: Fits a **straight line** to the data.  \n",
        "   - Polynomial Regression: Fits a **curved line** to the data.  \n",
        "\n",
        "2. **Complexity:**\n",
        "   - Linear Regression: Simple and interpretable.  \n",
        "   - Polynomial Regression: More flexible, but can become complex and prone to **overfitting** if degree is too high.  \n",
        "\n",
        "3. **Use Case:**\n",
        "   - Linear Regression: Suitable when data shows a **linear trend**.  \n",
        "   - Polynomial Regression: Suitable when data shows a **non-linear trend**.  \n",
        "\n",
        "####  Example:\n",
        "- **Linear Regression:** Predicting house price based only on house size with a straight-line relationship.  \n",
        "- **Polynomial Regression:** Predicting house price where the relationship between size and price is **curved** (e.g., very small or very large houses behave differently).  \n",
        "\n",
        "### Q6. Implement a Python program to fit a Simple Linear Regression model to the following sample data:\n",
        "- X = [1, 2, 3, 4, 5]\n",
        "- Y = [2.1, 4.3, 6.1, 7.9, 10.2]\n",
        "\n",
        "**Task:** Plot the regression line over the data points.\n",
        "(Include your Python code and output in the code box below.)\n",
        "\n",
        "\n",
        "\n",
        "\n",
        "\n",
        "\n",
        "\n",
        "\n",
        "\n",
        "\n",
        "\n",
        "\n",
        "\n",
        "\n",
        "\n",
        "\n",
        "\n"
      ],
      "metadata": {
        "id": "ovKpV9ZB7RV1"
      }
    },
    {
      "cell_type": "code",
      "execution_count": 1,
      "metadata": {
        "colab": {
          "base_uri": "https://localhost:8080/",
          "height": 507
        },
        "id": "dMBDO30x2I8r",
        "outputId": "1dc18c81-80db-481d-cc9c-2868c4b73da1"
      },
      "outputs": [
        {
          "output_type": "stream",
          "name": "stdout",
          "text": [
            "Intercept (β0): 0.17999999999999794\n",
            "Slope (β1): 1.9800000000000004\n"
          ]
        },
        {
          "output_type": "display_data",
          "data": {
            "text/plain": [
              "<Figure size 640x480 with 1 Axes>"
            ],
            "image/png": "[encoded data removed]"
          },
          "metadata": {}
        }
      ],
      "source": [
        "# Importing required libraries\n",
        "import numpy as np\n",
        "import matplotlib.pyplot as plt\n",
        "from sklearn.linear_model import LinearRegression\n",
        "\n",
        "# Sample data\n",
        "X = np.array([1, 2, 3, 4, 5]).reshape(-1, 1)  # Reshaping to 2D\n",
        "Y = np.array([2.1, 4.3, 6.1, 7.9, 10.2])\n",
        "\n",
        "# Creating and fitting the model\n",
        "model = LinearRegression()\n",
        "model.fit(X, Y)\n",
        "\n",
        "# Predicting values\n",
        "Y_pred = model.predict(X)\n",
        "\n",
        "# Printing slope and intercept\n",
        "print(\"Intercept (β0):\", model.intercept_)\n",
        "print(\"Slope (β1):\", model.coef_[0])\n",
        "\n",
        "# Plotting the regression line with data points\n",
        "plt.scatter(X, Y, color=\"blue\", label=\"Actual Data Points\")\n",
        "plt.plot(X, Y_pred, color=\"red\", linewidth=2, label=\"Regression Line\")\n",
        "plt.xlabel(\"X\")\n",
        "plt.ylabel(\"Y\")\n",
        "plt.title(\"Simple Linear Regression Example\")\n",
        "plt.legend()\n",
        "plt.show()\n"
      ]
    },
    {
      "cell_type": "markdown",
      "source": [
        "### Q7. Fit a Multiple Linear Regression model on this sample data:\n",
        "- Area = [1200, 1500, 1800, 2000]  \n",
        "- Rooms = [2, 3, 3, 4]  \n",
        "- Price = [250000, 300000, 320000, 370000]  \n",
        "\n",
        "**Task:** Check for multicollinearity using VIF and report the results.\n",
        "(Include your Python code and output in the code box below.)\n",
        "\n"
      ],
      "metadata": {
        "id": "CzkQ7gr_GmLX"
      }
    },
    {
      "cell_type": "code",
      "source": [
        "# Import required libraries\n",
        "import pandas as pd\n",
        "import numpy as np\n",
        "from sklearn.linear_model import LinearRegression\n",
        "from statsmodels.stats.outliers_influence import variance_inflation_factor\n",
        "import statsmodels.api as sm\n",
        "\n",
        "# Sample dataset\n",
        "data = {\n",
        "    \"Area\": [1200, 1500, 1800, 2000],\n",
        "    \"Rooms\": [2, 3, 3, 4],\n",
        "    \"Price\": [250000, 300000, 320000, 370000]\n",
        "}\n",
        "\n",
        "df = pd.DataFrame(data)\n",
        "\n",
        "# Independent and dependent variables\n",
        "X = df[[\"Area\", \"Rooms\"]]\n",
        "y = df[\"Price\"]\n",
        "\n",
        "# Fit Multiple Linear Regression model\n",
        "model = LinearRegression()\n",
        "model.fit(X, y)\n",
        "\n",
        "# Print coefficients\n",
        "print(\"Intercept (β0):\", model.intercept_)\n",
        "print(\"Coefficients (β):\", model.coef_)\n",
        "\n",
        "# --- Checking Multicollinearity using VIF ---\n",
        "X_with_const = sm.add_constant(X)  # add constant term for statsmodels\n",
        "vif_data = pd.DataFrame()\n",
        "vif_data[\"Feature\"] = X_with_const.columns\n",
        "vif_data[\"VIF\"] = [variance_inflation_factor(X_with_const.values, i)\n",
        "                   for i in range(X_with_const.shape[1])]\n",
        "\n",
        "print(\"\\nVariance Inflation Factor (VIF) Results:\")\n",
        "print(vif_data)\n"
      ],
      "metadata": {
        "colab": {
          "base_uri": "https://localhost:8080/"
        },
        "id": "OfzWh_GjG_DO",
        "outputId": "8bc3c384-c1e3-4e34-922f-cdb6fb75dd3c"
      },
      "execution_count": 2,
      "outputs": [
        {
          "output_type": "stream",
          "name": "stdout",
          "text": [
            "Intercept (β0): 103157.89473684214\n",
            "Coefficients (β): [   63.15789474 34736.84210526]\n",
            "\n",
            "Variance Inflation Factor (VIF) Results:\n",
            "  Feature        VIF\n",
            "0   const  34.210526\n",
            "1    Area   7.736842\n",
            "2   Rooms   7.736842\n"
          ]
        }
      ]
    },
    {
      "cell_type": "markdown",
      "source": [
        "### Q8. Implement Polynomial Regression on the following data:\n",
        "- X = [1, 2, 3, 4, 5]  \n",
        "- Y = [2.2, 4.8, 7.5, 11.2, 14.7]  \n",
        "\n",
        "**Task:** Fit a 2nd-degree polynomial and plot the resulting curve.\n",
        "(Include your Python code and output in the code box below.)\n"
      ],
      "metadata": {
        "id": "V4veFVtNHI--"
      }
    },
    {
      "cell_type": "code",
      "source": [
        "# Import required libraries\n",
        "import numpy as np\n",
        "import matplotlib.pyplot as plt\n",
        "from sklearn.preprocessing import PolynomialFeatures\n",
        "from sklearn.linear_model import LinearRegression\n",
        "\n",
        "# Sample data\n",
        "X = np.array([1, 2, 3, 4, 5]).reshape(-1, 1)\n",
        "Y = np.array([2.2, 4.8, 7.5, 11.2, 14.7])\n",
        "\n",
        "# Transform X to include polynomial features (degree=2)\n",
        "poly = PolynomialFeatures(degree=2)\n",
        "X_poly = poly.fit_transform(X)\n",
        "\n",
        "# Fit the polynomial regression model\n",
        "model = LinearRegression()\n",
        "model.fit(X_poly, Y)\n",
        "\n",
        "# Predict Y values\n",
        "Y_pred = model.predict(X_poly)\n",
        "\n",
        "# Print coefficients\n",
        "print(\"Coefficients:\", model.coef_)\n",
        "print(\"Intercept:\", model.intercept_)\n",
        "\n",
        "# Plot the data points and polynomial regression curve\n",
        "plt.scatter(X, Y, color='blue', label='Actual Data')\n",
        "plt.plot(X, Y_pred, color='red', linewidth=2, label='Polynomial Regression (degree=2)')\n",
        "plt.xlabel(\"X\")\n",
        "plt.ylabel(\"Y\")\n",
        "plt.title(\"Polynomial Regression Example\")\n",
        "plt.legend()\n",
        "plt.show()\n"
      ],
      "metadata": {
        "colab": {
          "base_uri": "https://localhost:8080/",
          "height": 507
        },
        "id": "dkVE3RtBHqYW",
        "outputId": "ce24fcb3-1cb1-4e70-d01b-872a16671e03"
      },
      "execution_count": 3,
      "outputs": [
        {
          "output_type": "stream",
          "name": "stdout",
          "text": [
            "Coefficients: [0.   1.94 0.2 ]\n",
            "Intercept: 0.06000000000000938\n"
          ]
        },
        {
          "output_type": "display_data",
          "data": {
            "text/plain": [
              "<Figure size 640x480 with 1 Axes>"
            ],
            "image/png": "[encoded data removed]"
          },
          "metadata": {}
        }
      ]
    },
    {
      "cell_type": "markdown",
      "source": [
        "### Q9. Create a residuals plot for a regression model trained on this data:\n",
        "- X = [10, 20, 30, 40, 50]  \n",
        "- Y = [15, 35, 40, 50, 65]  \n",
        "\n",
        "**Task:** Assess heteroscedasticity by examining the spread of residuals.(Include your Python code and output in the code box below.)\n",
        "\n"
      ],
      "metadata": {
        "id": "6PzDWCevIGQm"
      }
    },
    {
      "cell_type": "code",
      "source": [
        "# Import required libraries\n",
        "import numpy as np\n",
        "import matplotlib.pyplot as plt\n",
        "from sklearn.linear_model import LinearRegression\n",
        "\n",
        "# Sample data\n",
        "X = np.array([10, 20, 30, 40, 50]).reshape(-1, 1)\n",
        "Y = np.array([15, 35, 40, 50, 65])\n",
        "\n",
        "# Fit Simple Linear Regression\n",
        "model = LinearRegression()\n",
        "model.fit(X, Y)\n",
        "Y_pred = model.predict(X)\n",
        "\n",
        "# Calculate residuals\n",
        "residuals = Y - Y_pred\n",
        "\n",
        "# Plot residuals\n",
        "plt.scatter(X, residuals, color='blue')\n",
        "plt.axhline(y=0, color='red', linestyle='--')\n",
        "plt.xlabel(\"X\")\n",
        "plt.ylabel(\"Residuals\")\n",
        "plt.title(\"Residuals Plot\")\n",
        "plt.show()\n",
        "\n",
        "# Optional: Print residuals\n",
        "print(\"Residuals:\", residuals)\n"
      ],
      "metadata": {
        "colab": {
          "base_uri": "https://localhost:8080/",
          "height": 489
        },
        "id": "OoCRxYi-IgEG",
        "outputId": "1be9244d-d13c-4a91-ec1f-4160dd6a9a4d"
      },
      "execution_count": 4,
      "outputs": [
        {
          "output_type": "display_data",
          "data": {
            "text/plain": [
              "<Figure size 640x480 with 1 Axes>"
            ],
            "image/png": "[encoded data removed]"
          },
          "metadata": {}
        },
        {
          "output_type": "stream",
          "name": "stdout",
          "text": [
            "Residuals: [-3.   5.5 -1.  -2.5  1. ]\n"
          ]
        }
      ]
    },
    {
      "cell_type": "markdown",
      "source": [
        "### Question 10: Imagine you are a data scientist working for a real estate company. You\n",
        "need to predict house prices using features like area, number of rooms, and location.\n",
        "However, you detect heteroscedasticity and multicollinearity in your regression\n",
        "model. Explain the steps you would take to address these issues and ensure a robust\n",
        "model.\n",
        "\n",
        "**Scenario:**  \n",
        "- You are predicting **house prices** using features like **area, number of rooms, and location**.  \n",
        "- Your regression model shows **heteroscedasticity** and **multicollinearity**.\n",
        "\n",
        "####  1. Addressing Heteroscedasticity:\n",
        "- **Definition:** Non-constant variance of residuals.  \n",
        "- **Steps to Fix:**\n",
        "  1. **Transform the dependent variable (Y):** Apply log, square root, or Box-Cox transformation.  \n",
        "  2. **Weighted Least Squares (WLS):** Give less weight to observations with larger variance.  \n",
        "  3. **Check residual plots** after transformation to confirm homoscedasticity.  \n",
        "\n",
        "####  2. Addressing Multicollinearity:\n",
        "- **Definition:** High correlation between independent variables, leading to unstable coefficient estimates.  \n",
        "- **Steps to Fix:**\n",
        "  1. **Check correlation matrix or VIF (Variance Inflation Factor)** for all predictors.  \n",
        "  2. **Remove or combine highly correlated features** (e.g., rooms + area may be correlated).  \n",
        "  3. **Use dimensionality reduction** techniques like **Principal Component Analysis (PCA)** if multiple features are correlated.  \n",
        "  4. Consider **regularization methods** like **Ridge Regression** or **Lasso Regression** to reduce coefficient instability.\n",
        "\n",
        "####  3. Ensuring a Robust Model:\n",
        "- **Split dataset properly** into training and testing sets.  \n",
        "- **Validate assumptions** (linearity, normality, homoscedasticity, independence) after adjustments.  \n",
        "- **Use cross-validation** to check model stability.  \n",
        "- **Evaluate performance** using metrics like RMSE, R², and Adjusted R².  \n",
        "\n",
        "####  Example Implementation Ideas:\n",
        "- Apply **log transformation** on house price.  \n",
        "- Calculate **VIF** and drop features with VIF > 5.  \n",
        "- Fit **Ridge Regression** if multicollinearity persists.\n",
        "\n",
        "\n",
        "\n"
      ],
      "metadata": {
        "id": "6aEQBmbgI4kf"
      }
    }
  ]
}